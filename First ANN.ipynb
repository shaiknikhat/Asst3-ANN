{
 "cells": [
  {
   "cell_type": "code",
   "execution_count": 63,
   "metadata": {},
   "outputs": [],
   "source": [
    "import numpy as np\n",
    "n_ex=3\n",
    "n_in=4\n",
    "n_out=1\n",
    "n_hl=2\n",
    "n_hl_1=5\n",
    "n_hl_2=5\n",
    "lr=0.001\n",
    "L=4\n",
    "iterations=10000\n",
    "np.random.seed(101)\n",
    "w1=np.random.randn(n_hl_1,n_in)\n",
    "w2=np.random.randn(n_hl_2,n_hl_1)\n",
    "w3=np.random.randn(n_out,n_hl_2)\n",
    "b1=np.ones((n_ex,n_hl_1))\n",
    "b2=np.ones((n_ex,n_hl_2))\n",
    "b3=np.ones((n_ex,n_out))\n",
    "def sigmoid(arr):\n",
    "    return 1/(1+np.exp(-arr));\n",
    "def dersigmoid(arr):\n",
    "            return np.multiply(sigmoid(arr),sigmoid(1-arr));\n",
    "X=np.array([[0,0,1,1],[1,0,0,1],[0,1,1,1]]) \n",
    "Y=np.array([[0],[0],[1]])            \n",
    "                  "
   ]
  },
  {
   "cell_type": "code",
   "execution_count": 64,
   "metadata": {},
   "outputs": [
    {
     "name": "stdout",
     "output_type": "stream",
     "text": [
      "0.6484932864911884\n",
      "0.6666047731481565\n",
      "0.6666356133845152\n",
      "0.6666459284494186\n",
      "0.66665109531019\n",
      "0.666654199222796\n",
      "0.6666562703984708\n",
      "0.6666577508897454\n",
      "0.6666588619273205\n",
      "0.666659726509086\n",
      "[[0.99998321]\n",
      " [0.99998163]\n",
      " [0.99998358]] \n",
      " [[0]\n",
      " [0]\n",
      " [1]]\n"
     ]
    }
   ],
   "source": [
    "for it in range(iterations):\n",
    "    #forwardprop\n",
    "    v2=X.dot(w1.T)+b1\n",
    "    y2=sigmoid(v2)\n",
    "    v3=y2.dot(w2.T)+b2\n",
    "    y3=sigmoid(v3)\n",
    "    v4=y3.dot(w3.T)+b3\n",
    "    y4=sigmoid(v4)\n",
    "    #backprop\n",
    "    del3=(y4-Y)*dersigmoid(v4)\n",
    "    d3=(lr)*np.dot((del3.T),y3)\n",
    "    del2= (np.dot(del3,w3))*(dersigmoid(v3))\n",
    "    d2=(lr)*np.dot((del2.T),y2)\n",
    "    del1= (np.dot(del2,w2))*(dersigmoid(v2))\n",
    "    d1=(lr)*np.dot((del1.T),X)\n",
    "    w3+=d3\n",
    "    b3+=np.sum(del3,axis=0,keepdims=True)\n",
    "    w2+=d2\n",
    "    b2+=np.sum(del2,axis=0,keepdims=True)\n",
    "    w1+=d1\n",
    "    b1+=np.sum(del1,axis=0,keepdims=True)\n",
    "    if(it%1000==0):\n",
    "    #print(w1,'\\n',w2,'\\n',w3,'\\n',y4)\n",
    "          print(np.mean(np.abs(y4-Y)))\n",
    "print(y4,'\\n',Y)        \n",
    "    "
   ]
  }
 ],
 "metadata": {
  "kernelspec": {
   "display_name": "Python 3",
   "language": "python",
   "name": "python3"
  },
  "language_info": {
   "codemirror_mode": {
    "name": "ipython",
    "version": 3
   },
   "file_extension": ".py",
   "mimetype": "text/x-python",
   "name": "python",
   "nbconvert_exporter": "python",
   "pygments_lexer": "ipython3",
   "version": "3.6.8"
  }
 },
 "nbformat": 4,
 "nbformat_minor": 2
}
